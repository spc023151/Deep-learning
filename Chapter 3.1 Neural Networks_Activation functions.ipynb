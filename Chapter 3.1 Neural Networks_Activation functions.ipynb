{
 "cells": [
  {
   "cell_type": "markdown",
   "metadata": {
    "collapsed": true
   },
   "source": [
    "# 激活函數(Activation function)"
   ]
  },
  {
   "cell_type": "markdown",
   "metadata": {},
   "source": [
    "![](img/neural network_1.jpg)"
   ]
  },
  {
   "cell_type": "markdown",
   "metadata": {},
   "source": [
    "上圖為一個input為x1、x2並將每個input各自向後傳到三個節點然後ouput，y1、y2的感知器"
   ]
  },
  {
   "cell_type": "markdown",
   "metadata": {},
   "source": [
    "在每一個節點向後傳遞之前，先將其加總數值通過一個激活函數，再向後傳遞"
   ]
  },
  {
   "cell_type": "markdown",
   "metadata": {},
   "source": [
    "有了激活函數就可以決定每個節點的重要性，來決定這個節點所要輸出的結果，而中間的節點又叫做神經元"
   ]
  },
  {
   "cell_type": "markdown",
   "metadata": {},
   "source": [
    "以公式表示第一層(input到下一層)，第一個神經元輸入=x1w11+x2w21，第二個神經元輸入=x1w12+x2w22，第三個神經元輸入=x1w13+x2w23"
   ]
  },
  {
   "cell_type": "markdown",
   "metadata": {},
   "source": [
    "然後將輸入加上bias通過激活函數，第一個神經元輸入 = x1w11 + x2w21 + bias1，第一個神經元輸出 = f(x1w11 + x2w21 + bias1)"
   ]
  },
  {
   "cell_type": "markdown",
   "metadata": {},
   "source": [
    "最後乘上權重將結果輸出至output，y1 = 第一個神經元輸出*w'11 + 第二個神經元輸出*w'21 + 第一個神經元輸出*w'31"
   ]
  },
  {
   "cell_type": "markdown",
   "metadata": {},
   "source": [
    "(w11為第一層到第二層的權重，前面的數字代表連接第一個input，後面的數字代表連接第一個神經元)"
   ]
  },
  {
   "cell_type": "markdown",
   "metadata": {},
   "source": [
    "(w'11為第二層到第三層的權重，前面的數字代表連接第一個神經元的output，後面的數字代表連接第一個output)"
   ]
  },
  {
   "cell_type": "markdown",
   "metadata": {
    "collapsed": true
   },
   "source": [
    "# Sigmoid"
   ]
  },
  {
   "cell_type": "markdown",
   "metadata": {
    "collapsed": true
   },
   "source": [
    "所有神經元輸出會被限制在0~1之間，計算量較大，容易出現梯度消失問題，平均不為0"
   ]
  },
  {
   "cell_type": "markdown",
   "metadata": {},
   "source": [
    "均值不為零 : 造成反向傳播時總是往正或負的方向更新，收斂較慢"
   ]
  },
  {
   "cell_type": "code",
   "execution_count": 2,
   "metadata": {},
   "outputs": [
    {
     "data": {
      "image/png": "[encoded data removed]",
      "text/plain": [
       "<matplotlib.figure.Figure at 0x1c6972d3d30>"
      ]
     },
     "metadata": {},
     "output_type": "display_data"
    }
   ],
   "source": [
    "import numpy as np\n",
    "import matplotlib.pyplot as plt\n",
    "\n",
    "def sigmoid(x):\n",
    "    return 1 / (1 + np.exp(-x))\n",
    "\n",
    "x = np.linspace(-5, 5, 1000)\n",
    "y = sigmoid(x)\n",
    "\n",
    "plt.plot(y, color=\"blue\")\n",
    "plt.show()"
   ]
  },
  {
   "cell_type": "markdown",
   "metadata": {},
   "source": [
    "# Tanh"
   ]
  },
  {
   "cell_type": "markdown",
   "metadata": {},
   "source": [
    "所有神經元輸出會被限制在-1 ~ 1之間，解決均值不為0的問題，特徵明顯時效果較好"
   ]
  },
  {
   "cell_type": "markdown",
   "metadata": {},
   "source": [
    "存在梯度消失、計算量大的問題"
   ]
  },
  {
   "cell_type": "code",
   "execution_count": 3,
   "metadata": {},
   "outputs": [
    {
     "data": {
      "image/png": "[encoded data removed]",
      "text/plain": [
       "<matplotlib.figure.Figure at 0x1c6a82dfb70>"
      ]
     },
     "metadata": {},
     "output_type": "display_data"
    }
   ],
   "source": [
    "def tanh(x):\n",
    "    return np.tanh(x)\n",
    "\n",
    "x = np.linspace(-5, 5, 1000)\n",
    "y = tanh(x)\n",
    "\n",
    "plt.plot(y, color=\"blue\")\n",
    "plt.show()"
   ]
  },
  {
   "cell_type": "markdown",
   "metadata": {},
   "source": [
    "# Relu"
   ]
  },
  {
   "cell_type": "markdown",
   "metadata": {},
   "source": [
    "收斂快，容易train不起來，沒有梯度消失問題，可能有神經元永遠不被激活問題"
   ]
  },
  {
   "cell_type": "code",
   "execution_count": 13,
   "metadata": {},
   "outputs": [
    {
     "data": {
      "image/png": "[encoded data removed]",
      "text/plain": [
       "<matplotlib.figure.Figure at 0x1c6a874c940>"
      ]
     },
     "metadata": {},
     "output_type": "display_data"
    }
   ],
   "source": [
    "def relu(x):\n",
    "    return np.maximum(0, x)\n",
    "\n",
    "x = np.linspace(-5, 5, 1000)\n",
    "x = x.reshape(1000, 1)\n",
    "y = relu(x)\n",
    "\n",
    "plt.plot(y, color=\"blue\")\n",
    "plt.show()"
   ]
  },
  {
   "cell_type": "markdown",
   "metadata": {
    "collapsed": true
   },
   "source": [
    "# Softmax"
   ]
  },
  {
   "cell_type": "markdown",
   "metadata": {},
   "source": [
    "用於分類，所有輸出總合為1，輸出為該類別的機率"
   ]
  },
  {
   "cell_type": "code",
   "execution_count": 5,
   "metadata": {},
   "outputs": [
    {
     "name": "stdout",
     "output_type": "stream",
     "text": [
      "各類別機率 [9.99954600e-01 4.53978686e-05 2.06106005e-09]\n",
      "總和 1.0\n"
     ]
    }
   ],
   "source": [
    "def softmax(x):\n",
    "    c = np.max(x)\n",
    "    exp_x = np.exp(x - c)   # 防止浮點數運算時溢位\n",
    "    sum_exp_x = np.sum(exp_x)\n",
    "    y = exp_x / sum_exp_x\n",
    "    \n",
    "    return y\n",
    "\n",
    "x = np.array([1010, 1000, 990])\n",
    "y = softmax(x)\n",
    "\n",
    "print(\"各類別機率\", y)\n",
    "print(\"總和\", np.sum(y))"
   ]
  },
  {
   "cell_type": "markdown",
   "metadata": {},
   "source": [
    "# 梯度消失"
   ]
  },
  {
   "cell_type": "markdown",
   "metadata": {},
   "source": [
    "sigmoid的梯度最多只有0.25，在反向傳播時需要由鏈式法則相乘將之前的導數相乘，網路太深相乘結果容易接近0"
   ]
  },
  {
   "cell_type": "code",
   "execution_count": 12,
   "metadata": {},
   "outputs": [
    {
     "data": {
      "image/png": "[encoded data removed]",
      "text/plain": [
       "<matplotlib.figure.Figure at 0x1c6a87d7320>"
      ]
     },
     "metadata": {},
     "output_type": "display_data"
    }
   ],
   "source": [
    "def derivative_sigmoid(x):\n",
    "    return  sigmoid(x) * (1-sigmoid(x))\n",
    "\n",
    "x = np.linspace(-5, 5, 1000)\n",
    "y = derivative_sigmoid(x)\n",
    "\n",
    "plt.title(\"Derivative of sigmoid\")\n",
    "plt.plot(y, color=\"blue\")\n",
    "plt.show()"
   ]
  },
  {
   "cell_type": "markdown",
   "metadata": {},
   "source": [
    "tanh梯度"
   ]
  },
  {
   "cell_type": "code",
   "execution_count": 14,
   "metadata": {},
   "outputs": [
    {
     "data": {
      "image/png": "[encoded data removed]",
      "text/plain": [
       "<matplotlib.figure.Figure at 0x1c6a8510fd0>"
      ]
     },
     "metadata": {},
     "output_type": "display_data"
    }
   ],
   "source": [
    "def derivative_tanh(x):\n",
    "    return  1 / np.cosh(x) **2\n",
    "\n",
    "x = np.linspace(-5, 5, 1000)\n",
    "y = derivative_tanh(x)\n",
    "\n",
    "plt.title(\"Derivative of tanh\")\n",
    "plt.plot(y, color=\"blue\")\n",
    "plt.show()"
   ]
  },
  {
   "cell_type": "markdown",
   "metadata": {},
   "source": [
    "relu梯度"
   ]
  },
  {
   "cell_type": "code",
   "execution_count": 16,
   "metadata": {},
   "outputs": [
    {
     "data": {
      "image/png": "[encoded data removed]",
      "text/plain": [
       "<matplotlib.figure.Figure at 0x1c6a875d7b8>"
      ]
     },
     "metadata": {},
     "output_type": "display_data"
    }
   ],
   "source": [
    "def derivative_relu(x):\n",
    "    x = np.maximum(0, x)\n",
    "    x[x>0] = 1\n",
    "    return  x\n",
    "\n",
    "x = np.linspace(-5, 5, 1000)\n",
    "y = derivative_relu(x)\n",
    "\n",
    "plt.title(\"Derivative of relu\")\n",
    "plt.plot(y, color=\"blue\")\n",
    "plt.show()"
   ]
  },
  {
   "cell_type": "markdown",
   "metadata": {},
   "source": [
    "其他還有Leakly ReLU、ELU、LReLU、PReLU、RReLU、softsign等激活函數"
   ]
  },
  {
   "cell_type": "markdown",
   "metadata": {},
   "source": [
    "有興趣可以自行搜尋，不常用到在這裡不多詳解"
   ]
  }
 ],
 "metadata": {
  "kernelspec": {
   "display_name": "Python [default]",
   "language": "python",
   "name": "python3"
  },
  "language_info": {
   "codemirror_mode": {
    "name": "ipython",
    "version": 3
   },
   "file_extension": ".py",
   "mimetype": "text/x-python",
   "name": "python",
   "nbconvert_exporter": "python",
   "pygments_lexer": "ipython3",
   "version": "3.6.3"
  }
 },
 "nbformat": 4,
 "nbformat_minor": 2
}
