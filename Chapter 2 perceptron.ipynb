{
 "cells": [
  {
   "cell_type": "markdown",
   "metadata": {},
   "source": [
    "# Perceptron 感知器"
   ]
  },
  {
   "cell_type": "markdown",
   "metadata": {},
   "source": [
    "![](https://github.com/spc023151/Machine-learning/blob/master/img/neural%20network_1.jpg)"
    "# clone 後顯示圖片<img src=\"img/perceptron_1.jpg\", width=400, height=40>"
   ]
  },
  {
   "cell_type": "markdown",
   "metadata": {},
   "source": [
    "感知器是指將接收到的訊號以傳遞或不傳遞(0或1)兩個值往下傳遞"
   ]
  },
  {
   "cell_type": "markdown",
   "metadata": {},
   "source": [
    "如上圖，以公式表示 x1*w1 + x2*w2 = y ，如果 y 大於某個值則輸出1，小於該值則輸出0"
   ]
  },
  {
   "cell_type": "markdown",
   "metadata": {},
   "source": [
    "(x1、x2為輸入值，w1、w2為權重)"
   ]
  },
  {
   "cell_type": "markdown",
   "metadata": {},
   "source": [
    "# 感知器實作邏輯電路"
   ]
  },
  {
   "cell_type": "markdown",
   "metadata": {},
   "source": [
    "這裡依照上圖設計權重，使感知器達到AND邏輯閘的效果"
   ]
  },
  {
   "cell_type": "code",
   "execution_count": 14,
   "metadata": {},
   "outputs": [
    {
     "name": "stdout",
     "output_type": "stream",
     "text": [
      "0 AND 0 -> 0\n",
      "1 AND 0 -> 0\n",
      "0 AND 1 -> 0\n",
      "1 AND 1 -> 1\n"
     ]
    }
   ],
   "source": [
    "def AND(x1 ,x2):\n",
    "    w1, w2, k = 0.5, 0.5, 0.7\n",
    "    \n",
    "    # 感知器公式\n",
    "    y = x1*w1 + x2*w2\n",
    "    \n",
    "    # 如果y小於等於k則輸出0，大於k則輸出1\n",
    "    if y <= k:\n",
    "        return 0\n",
    "    elif y > k:\n",
    "        return 1\n",
    "    \n",
    "print(\"0 AND 0 ->\", AND(0,0))\n",
    "print(\"1 AND 0 ->\", AND(1,0))\n",
    "print(\"0 AND 1 ->\", AND(0,1))\n",
    "print(\"1 AND 1 ->\", AND(1,1))"
   ]
  },
  {
   "cell_type": "markdown",
   "metadata": {},
   "source": [
    "# 加入偏權值bias"
   ]
  },
  {
   "cell_type": "markdown",
   "metadata": {},
   "source": [
    "在公式中加入一個值bias，表示 x1w1 + x2w2 + b = y"
   ]
  },
  {
   "cell_type": "code",
   "execution_count": 2,
   "metadata": {},
   "outputs": [
    {
     "name": "stdout",
     "output_type": "stream",
     "text": [
      "x1w1, x2w2 = [0.  0.5]\n",
      "x1w1 + x2w2 =  0.5\n",
      "x1w1 + x2w2 + b = -0.19999999999999996 (浮點術運算誤差約等於-2)\n"
     ]
    }
   ],
   "source": [
    "import numpy as np\n",
    "\n",
    "x = np.array([0  , 1  ])  # 輸入   input\n",
    "w = np.array([0.5, 0.5])  # 權重   weight\n",
    "b = -0.7                  # 偏權值 bias\n",
    "\n",
    "# 將 x1w1 x2w2 分別進行運算\n",
    "print(\"x1w1, x2w2 =\", w*x)\n",
    "\n",
    "# 將 x1w1 x2w2 的結果加起來\n",
    "print(\"x1w1 + x2w2 = \", np.sum(w*x))\n",
    "\n",
    "# 加入bias的結果\n",
    "print(\"x1w1 + x2w2 + b =\", np.sum(w*x)+b, \"(浮點術運算誤差約等於-2)\")"
   ]
  },
  {
   "cell_type": "markdown",
   "metadata": {},
   "source": [
    "# 加入偏權值實作邏輯電路"
   ]
  },
  {
   "cell_type": "code",
   "execution_count": 3,
   "metadata": {},
   "outputs": [
    {
     "name": "stdout",
     "output_type": "stream",
     "text": [
      "0 AND 0 -> 0\n",
      "1 AND 0 -> 0\n",
      "0 AND 1 -> 0\n",
      "1 AND 1 -> 1\n"
     ]
    }
   ],
   "source": [
    "def AND(x1 ,x2):\n",
    "    x = np.array([x1, x2])\n",
    "    w = np.array([0.5, 0.5])\n",
    "    b = -0.7\n",
    "    k = 0\n",
    "    \n",
    "    # 感知器公式，有bias\n",
    "    y = np.sum(w*x) + b\n",
    "    \n",
    "    # 如果y小於等於k則輸出0，大於k則輸出1\n",
    "    if y <= k:\n",
    "        return 0\n",
    "    else:\n",
    "        return 1\n",
    "    \n",
    "print(\"0 AND 0 ->\", AND(0,0))\n",
    "print(\"1 AND 0 ->\", AND(1,0))\n",
    "print(\"0 AND 1 ->\", AND(0,1))\n",
    "print(\"1 AND 1 ->\", AND(1,1))"
   ]
  },
  {
   "cell_type": "markdown",
   "metadata": {},
   "source": [
    "# 單層感知器極限"
   ]
  },
  {
   "cell_type": "markdown",
   "metadata": {},
   "source": [
    "單層感知器只能做到用一條直線區分0或1"
   ]
  },
  {
   "cell_type": "markdown",
   "metadata": {},
   "source": [
    "下圖則為用感知器實作OR邏輯閘(藍線)區分4個點的結果"
   ]
  },
  {
   "cell_type": "code",
   "execution_count": 4,
   "metadata": {},
   "outputs": [
    {
     "name": "stdout",
     "output_type": "stream",
     "text": [
      "0 OR 0 -> 0\n",
      "1 OR 0 -> 1\n",
      "0 OR 1 -> 1\n",
      "1 OR 1 -> 1\n"
     ]
    },
    {
     "data": {
      "text/plain": [
       "<function matplotlib.pyplot.show>"
      ]
     },
     "execution_count": 4,
     "metadata": {},
     "output_type": "execute_result"
    },
    {
     "data": {
      "image/png": "iVBORw0KGgoAAAANSUhEUgAAAYAAAAD8CAYAAAB+UHOxAAAABHNCSVQICAgIfAhkiAAAAAlwSFlz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\nqjAk68QAAAAASUVORK5CYII=\n",
      "text/plain": [
       "<Figure size 432x288 with 1 Axes>"
      ]
     },
     "metadata": {},
     "output_type": "display_data"
    }
   ],
   "source": [
    "import matplotlib.pyplot  as plt\n",
    "\n",
    "# 將圖表顯示在視窗內，不要另開視窗\n",
    "%matplotlib inline\n",
    "\n",
    "def OR(x1 ,x2):\n",
    "    x = np.array([x1, x2])\n",
    "    w = np.array([1, 1])\n",
    "    b = -0.5\n",
    "    k = 0\n",
    "    \n",
    "    y = np.sum(w*x) + b\n",
    "    \n",
    "    if y <= k:\n",
    "        return 0\n",
    "    else:\n",
    "        return 1\n",
    "\n",
    "# 輸出or邏輯閘的結果\n",
    "print(\"0 OR 0 ->\", OR(0,0))\n",
    "print(\"1 OR 0 ->\", OR(1,0))\n",
    "print(\"0 OR 1 ->\", OR(0,1))\n",
    "print(\"1 OR 1 ->\", OR(1,1))\n",
    "\n",
    "x = np.arange(-1, 2, 0.1)\n",
    "w = np.ones(x.shape[0])\n",
    "b = 0.5\n",
    "y = -x + b\n",
    "\n",
    "# 紅色代表0，藍色代表1\n",
    "plt.scatter(0,0,color=\"red\", label=\"0\")\n",
    "plt.scatter(1,0,color=\"blue\", label=\"1\")\n",
    "plt.scatter(0,1,color=\"blue\")\n",
    "plt.scatter(1,1,color=\"blue\")\n",
    "plt.plot(x, y, label='Line')\n",
    "plt.legend()\n",
    "plt.show"
   ]
  },
  {
   "cell_type": "markdown",
   "metadata": {},
   "source": [
    "然而一條直線無論如何都無法區分下列4點 (單層感知器無法做出XOR的結果)"
   ]
  },
  {
   "cell_type": "code",
   "execution_count": 5,
   "metadata": {},
   "outputs": [
    {
     "name": "stdout",
     "output_type": "stream",
     "text": [
      "圖中4點即為XOR結果\n",
      "0 XOR 0 -> 0\n",
      "1 XOR 0 -> 1\n",
      "0 XOR 1 -> 1\n",
      "1 XOR 1 -> 0\n"
     ]
    },
    {
     "data": {
      "text/plain": [
       "<function matplotlib.pyplot.show>"
      ]
     },
     "execution_count": 5,
     "metadata": {},
     "output_type": "execute_result"
    },
    {
     "data": {
      "image/png": "iVBORw0KGgoAAAANSUhEUgAAAYAAAAD8CAYAAAB+UHOxAAAABHNCSVQICAgIfAhkiAAAAAlwSFlz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\nqkws6uwAAAAASUVORK5CYII=\n",
      "text/plain": [
       "<Figure size 432x288 with 1 Axes>"
      ]
     },
     "metadata": {},
     "output_type": "display_data"
    }
   ],
   "source": [
    "x = np.arange(-1, 2, 0.1)\n",
    "w = np.ones(x.shape[0])\n",
    "b = 0.5\n",
    "y = -x + b\n",
    "\n",
    "# 圖中4點即為XOR結果\n",
    "print(\"圖中4點即為XOR結果\")\n",
    "print(\"0 XOR 0 -> 0\")\n",
    "print(\"1 XOR 0 -> 1\")\n",
    "print(\"0 XOR 1 -> 1\")\n",
    "print(\"1 XOR 1 -> 0\")\n",
    "\n",
    "# 紅色代表0，藍色代表1\n",
    "plt.scatter(0,0,color=\"red\", label=\"0\")\n",
    "plt.scatter(1,0,color=\"blue\", label=\"1\")\n",
    "plt.scatter(0,1,color=\"blue\")\n",
    "plt.scatter(1,1,color=\"red\")\n",
    "plt.plot(x, y, label='Line')\n",
    "plt.legend()\n",
    "plt.show"
   ]
  },
  {
   "cell_type": "markdown",
   "metadata": {},
   "source": [
    "# 多層感知器"
   ]
  },
  {
   "cell_type": "markdown",
   "metadata": {},
   "source": [
    "<img src=\"img/perceptron_2.jpg\", width=800, height=800>"
   ]
  },
  {
   "cell_type": "markdown",
   "metadata": {},
   "source": [
    "單層感知器可以做出AND、NAND、OR邏輯閘"
   ]
  },
  {
   "cell_type": "markdown",
   "metadata": {},
   "source": [
    "而以此三個邏輯閘即可實作出XOR"
   ]
  },
  {
   "cell_type": "code",
   "execution_count": 6,
   "metadata": {},
   "outputs": [
    {
     "name": "stdout",
     "output_type": "stream",
     "text": [
      "從結果可以看到三個邏輯閘可以實作出XOR的結果\n",
      "0 XOR 0 -> 0\n",
      "1 XOR 0 -> 1\n",
      "0 XOR 1 -> 1\n",
      "1 XOR 1 -> 0\n"
     ]
    }
   ],
   "source": [
    "def NAND(x1, x2):\n",
    "    x = np.array([x1, x2])\n",
    "    w = np.array([-0.5, -0.5])\n",
    "    b =0.7\n",
    "    tmp = np.sum(w*x) + b\n",
    "    if tmp<=0 :\n",
    "        return 0\n",
    "    else:\n",
    "        return 1\n",
    "\n",
    "\n",
    "def XOR(x1, x2):\n",
    "    # 將NAND和OR的結果丟到AND裡面，即為實作上圖邏輯閘\n",
    "    return AND(NAND(x1, x2), OR(x1, x2))\n",
    "\n",
    "print(\"從結果可以看到三個邏輯閘可以實作出XOR的結果\")\n",
    "print(\"0 XOR 0 ->\", XOR(0,0))\n",
    "print(\"1 XOR 0 ->\", XOR(1,0))\n",
    "print(\"0 XOR 1 ->\", XOR(0,1))\n",
    "print(\"1 XOR 1 ->\", XOR(1,1))"
   ]
  },
  {
   "cell_type": "markdown",
   "metadata": {},
   "source": [
    "# 結論"
   ]
  },
  {
   "cell_type": "markdown",
   "metadata": {},
   "source": [
    "使用感知器做出的單層邏輯閘只能區分線性區域"
   ]
  },
  {
   "cell_type": "markdown",
   "metadata": {},
   "source": [
    "層疊多個感知器做出的邏輯閘則可以區分非線性區域"
   ]
  }
 ],
 "metadata": {
  "kernelspec": {
   "display_name": "Python [conda env:tensorflow-cpu]",
   "language": "python",
   "name": "conda-env-tensorflow-cpu-py"
  },
  "language_info": {
   "codemirror_mode": {
    "name": "ipython",
    "version": 3
   },
   "file_extension": ".py",
   "mimetype": "text/x-python",
   "name": "python",
   "nbconvert_exporter": "python",
   "pygments_lexer": "ipython3",
   "version": "3.6.2"
  }
 },
 "nbformat": 4,
 "nbformat_minor": 2
}
